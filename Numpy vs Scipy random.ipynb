{
 "cells": [
  {
   "cell_type": "code",
   "execution_count": 177,
   "metadata": {},
   "outputs": [
    {
     "name": "stdout",
     "output_type": "stream",
     "text": [
      "83.3 µs ± 5.25 µs per loop (mean ± std. dev. of 7 runs, 1000 loops each)\n",
      "99.9 µs ± 2.67 µs per loop (mean ± std. dev. of 7 runs, 1000 loops each)\n",
      "191 µs ± 7.24 µs per loop (mean ± std. dev. of 7 runs, 1000 loops each)\n",
      "482 µs ± 23.7 µs per loop (mean ± std. dev. of 7 runs, 1000 loops each)\n",
      "509 ns ± 79.5 ns per loop (mean ± std. dev. of 7 runs, 1000 loops each)\n"
     ]
    }
   ],
   "source": [
    "import numpy as np\n",
    "from scipy.stats import norm\n",
    "\n",
    "\n",
    "# Diff in random numpy vs scipy:\n",
    "# \n",
    "# scipy.stats has a bit of overhead for error checking and making the interface more flexible. \n",
    "# The speed difference should be minimal as long as you don't call uniform.rvs in a loop for each draw. \n",
    "# \n",
    "# Details:\n",
    "#\n",
    "# The basic random numbers in scipy/numpy are created by Mersenne-Twister PRNG in numpy.random. \n",
    "# The random numbers for distributions in numpy.random are in cython/pyrex and are pretty fast.\n",
    "#\n",
    "# scipy.stats doesn't have a random number generator, random numbers are obtained in one of three ways:\n",
    "# \n",
    "#    FAST\n",
    "#    1. directly from numpy.random, e.g. normal, t, ... pretty fast\n",
    "#\n",
    "#    FAST\n",
    "#    2. random numbers by transformation of other random numbers that are available in numpy.random, \n",
    "#    also pretty fast because this operates on entire arrays of numbers\n",
    "#\n",
    "#    SLOW\n",
    "#    3. generic: the only generic generation random number generation is by using the ppf (inverse cdf) \n",
    "#    to transform uniform random numbers. \n",
    "#\n",
    "#    This is relatively fast if there is an explicit expression for the ppf, but \n",
    "#    can be very slow if the ppf has to be calculated indirectly. \n",
    "#\n",
    "#    For example if only the pdf is defined, then the cdf is obtained through numerical integration and \n",
    "#    the ppf is obtained through an equation solver. \n",
    "#    So a few distributions are very slow.\n",
    "# \n",
    "# Source: https://stackoverflow.com/questions/4001577/difference-between-random-draws-from-scipy-stats-rvs-and-numpy-random\n",
    "#\n",
    "# Example:\n",
    "\n",
    "n = norm(0, 1)\n",
    "%timeit -n 1000 a = np.random.randn(1000)\n",
    "%timeit -n 1000 n.rvs(1)[0]\n",
    "%timeit -n 1000 a = n.rvs(1000)\n",
    "%timeit -n 1000 a = [np.random.normal(0,1) for i in range(0, 1000)]\n",
    "%timeit -n 1000 np.random.normal(0,1)\n"
   ]
  },
  {
   "cell_type": "code",
   "execution_count": null,
   "metadata": {},
   "outputs": [],
   "source": []
  },
  {
   "cell_type": "code",
   "execution_count": 178,
   "metadata": {},
   "outputs": [
    {
     "name": "stdout",
     "output_type": "stream",
     "text": [
      "From normal dist: [[ 0.2   1.45 -0.65  0.39  0.56 -0.14  0.67]]\n",
      " \n",
      "rand int1: [0 3 0 0 0 0 3]\n",
      " \n",
      "rand floats: [[ 0.42  0.72  0.    0.3   0.15  0.09  0.19]]\n",
      "rand float1: [ 0.42  0.72  0.    0.3   0.15  0.09  0.19]\n",
      "rand float2: [ 0.42  0.72  0.    0.3   0.15  0.09  0.19]\n",
      "rand float3: [ 0.42  0.72  0.    0.3   0.15  0.09  0.19]\n",
      "rand float4 [ 0.42  0.72  0.    0.3   0.15  0.09  0.19]\n"
     ]
    }
   ],
   "source": [
    "# RANDOM\n",
    "\n",
    "\n",
    "# FROM NORMAL DIST\n",
    "std_norm_dist_rand = np.random.randn(1, 7).round(2) #[shape&size]\n",
    "\n",
    "# INTS\n",
    "rand_ints = np.random.randint(0, 4, 7) #[low, high, size, intdtype]\n",
    "\n",
    "# FLOATS\n",
    "np.random.seed(1); rand_floats = np.random.rand(1, 7).round(2) #[shape&size]\n",
    "np.random.seed(1); rand_floats1 = np.random.random_sample(7).round(2) # [size]\n",
    "np.random.seed(1); rand_floats2 = np.random.random(7).round(2) # same\n",
    "np.random.seed(1); rand_floats3 = np.random.ranf(7).round(2) # same\n",
    "np.random.seed(1); rand_floats4 = np.random.sample(7).round(2) # same\n",
    "\n",
    "print(\"From normal dist:\", std_norm_dist_rand)\n",
    "print(\" \")\n",
    "print(\"rand int1:\", rand_ints)\n",
    "print(\" \")\n",
    "print(\"rand floats:\", rand_floats)\n",
    "print(\"rand float1:\", rand_floats1)\n",
    "print(\"rand float2:\", rand_floats2)\n",
    "print(\"rand float3:\", rand_floats3)\n",
    "print(\"rand float4\", rand_floats4)"
   ]
  },
  {
   "cell_type": "code",
   "execution_count": 179,
   "metadata": {},
   "outputs": [
    {
     "name": "stdout",
     "output_type": "stream",
     "text": [
      "array: [0 1 2]\n",
      "From arr: [2 2 2]\n",
      "original(not choiced) arr: [0 1 2]\n",
      " \n",
      "array: [9 6 1 0 8 7 3 4 2 5]\n",
      "Shuffled array result : None !!!\n",
      "original(shuffled) arr: [9 6 1 0 8 7 3 4 2 5]\n",
      " \n",
      "array: [0 1 2 3 4 5 6 7 8 9]\n",
      "Permutated array result: [2 0 7 5 9 3 6 4 8 1]\n",
      "original(not permmutated) arr [0 1 2 3 4 5 6 7 8 9] !!!\n"
     ]
    }
   ],
   "source": [
    "# Random from array:\n",
    "\n",
    "\n",
    "# Pick from array\n",
    "arr = np.arange(0, 3, 1)\n",
    "from_1d_arr = np.random.choice(arr, 3, replace=True, p=[0.1,0.1,0.8])\n",
    "\n",
    "# Modify a sequence in-place by shuffling its contents.\n",
    "# in place !!!\n",
    "array = np.arange(10)\n",
    "array_sh = np.random.shuffle(array) \n",
    "\n",
    "# Randomly permute a sequence, or return a permuted range.\n",
    "array_2 = np.arange(10)\n",
    "array_per = np.random.permutation(array) \n",
    "\n",
    "print(\"array:\", arr)\n",
    "print(\"From arr:\", from_1d_arr)\n",
    "print(\"original(not choiced) arr:\", arr)\n",
    "print(\" \")\n",
    "print(\"array:\", array)\n",
    "print(\"Shuffled array result :\", array_sh, \"!!!\" )\n",
    "print(\"original(shuffled) arr:\", array)\n",
    "print(\" \")\n",
    "print(\"array:\", array_2)\n",
    "print(\"Permutated array result:\", array_per)\n",
    "print(\"original(not permmutated) arr\", array_2, \"!!!\" )"
   ]
  },
  {
   "cell_type": "code",
   "execution_count": 259,
   "metadata": {},
   "outputs": [
    {
     "name": "stdout",
     "output_type": "stream",
     "text": [
      "None\n"
     ]
    }
   ],
   "source": []
  },
  {
   "cell_type": "code",
   "execution_count": 251,
   "metadata": {},
   "outputs": [
    {
     "name": "stdout",
     "output_type": "stream",
     "text": [
      "Way 1 sum:         0.9999999999999997        size: 1\n",
      "Way 2 sum:         1.0                       size: 10\n",
      "Way 3 sum:         0.9999999999999994        size: 100\n",
      "Way 3a (dist) sum: 1.0                       size: 100\n"
     ]
    }
   ],
   "source": [
    "# Generuj liste prawdopodobienst sumujacych sie do 1\n",
    "import numpy as np, numpy.random\n",
    "\n",
    "# Simplest: \n",
    "# Make a list of as many numbers as you wish, then divide them all by the sum. \n",
    "# They are totally random this way.\n",
    "r = [random.random() for i in range(1,100)]\n",
    "s = sum(r)\n",
    "r = [ i/s for i in r ]\n",
    "print(\"Way 1 sum:         {:<20}      size: {}\".format( sum(r), len(rs) ))\n",
    "\n",
    "# A more generic solution is to use the Dirichlet distribution\n",
    "import numpy as np, numpy.random\n",
    "rs = np.random.dirichlet(np.ones(10),size=1)\n",
    "print(\"Way 2 sum:         {:<20}      size: {}\".format( sum(sum(rs)), len(*rs)) )\n",
    "\n",
    "\n",
    "# For the fastest performance, use numpy:\n",
    "import numpy as np\n",
    "a = np.random.random(100)\n",
    "a /= a.sum()\n",
    "print(\"Way 3 sum:         {:<20}      size: {}\".format( sum(a), len(a)) )\n",
    "\n",
    "# And you can give the random numbers any distribution you want, for a probability distribution:\n",
    "a = np.random.normal(size=100)\n",
    "a /= a.sum()\n",
    "print(\"Way 3a (dist) sum: {:<25} size: {}\".format( sum(a), len(a)) )"
   ]
  },
  {
   "cell_type": "code",
   "execution_count": null,
   "metadata": {},
   "outputs": [],
   "source": [
    "# Also..\n",
    "# RANDOM GENERATOR:\n",
    "\n",
    "RandomState      # Container for the Mersenne Twister pseudo-random number generator.\n",
    "seed([seed])     # Seed the generator.\n",
    "get_state()      # Return a tuple representing the internal state of the generator.\n",
    "set_state(state) # Set the internal state of the generator from a tuple."
   ]
  }
 ],
 "metadata": {
  "kernelspec": {
   "display_name": "Python 3",
   "language": "python",
   "name": "python3"
  },
  "language_info": {
   "codemirror_mode": {
    "name": "ipython",
    "version": 3
   },
   "file_extension": ".py",
   "mimetype": "text/x-python",
   "name": "python",
   "nbconvert_exporter": "python",
   "pygments_lexer": "ipython3",
   "version": "3.6.4"
  }
 },
 "nbformat": 4,
 "nbformat_minor": 2
}
